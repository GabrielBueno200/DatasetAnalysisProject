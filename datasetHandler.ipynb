{
 "cells": [
  {
   "cell_type": "code",
   "execution_count": 1,
   "metadata": {},
   "outputs": [],
   "source": [
    "# Import packages\n",
    "import pandas as pd\n",
    "import matplotlib.pyplot as plt\n",
    "import numpy as np\n",
    "\n",
    "from sklearn.model_selection import train_test_split\n",
    "from sklearn.linear_model import LinearRegression\n",
    "from sklearn.metrics import r2_score\n",
    "\n",
    "import seaborn as sns"
   ]
  },
  {
   "cell_type": "code",
   "execution_count": 2,
   "metadata": {},
   "outputs": [],
   "source": [
    "class Dataset():\n",
    "    def __init__(self, path):\n",
    "        self.data = pd.read_csv(path)\n",
    "        stringColumns = ['Country', 'Region', 'Country or region', 'Happiness Rank', \n",
    "                         'Overall rank', 'Happiness.Rank', 'Standard Error','Dystopia Residual', \n",
    "                         'Lower Confidence Interval', 'Upper Confidence Interval', 'Whisker.high', \n",
    "                         'Whisker.low', 'Dystopia.Residual']\n",
    "        for column in stringColumns:\n",
    "            if column in self.data.columns:\n",
    "                self.data = self.data.drop(columns=column, axis=1)"
   ]
  },
  {
   "cell_type": "code",
   "execution_count": 3,
   "metadata": {},
   "outputs": [],
   "source": [
    "class Dataset(Dataset):\n",
    "    def printSample(self):\n",
    "        print('\\x1b[1;1m'+'Quantidade de valores faltantes no dataset: '+'\\x1b[0m')\n",
    "        display(self.data.isna().sum())\n",
    "        \n",
    "        if self.data.isna().sum().sum() != 0:\n",
    "            self.data = self.data.fillna(0)\n",
    "        \n",
    "        print('\\x1b[1;1m'+'Linhas duplicadas: '+'\\x1b[0m', self.data.duplicated().sum())\n",
    "        print('\\x1b[1;1m'+'Número de linhas e colunas: '+'\\x1b[0m', self.data.shape)\n",
    "        display(self.data.head(10))"
   ]
  },
  {
   "cell_type": "markdown",
   "metadata": {},
   "source": [
    "## Linear Regression"
   ]
  },
  {
   "cell_type": "code",
   "execution_count": 4,
   "metadata": {},
   "outputs": [],
   "source": [
    "class Dataset(Dataset):\n",
    "    def linearRegression(self):\n",
    "        self.dataArr = self.data.to_numpy()\n",
    "        nrow,ncol = self.dataArr.shape\n",
    "        y = self.dataArr[:,0]\n",
    "        X = self.dataArr[:,1:ncol]\n",
    "        \n",
    "        # divide o conjunto em treinamento e teste\n",
    "        p = 0.3 # fracao e elementos no conjnto de teste (30%)\n",
    "        self.x_train, self.x_test, self.y_train, self.y_test = train_test_split(X, y, test_size = p, random_state = 42)\n",
    "        \n",
    "        # modelo de regressão linear múltipla\n",
    "        lm = LinearRegression()\n",
    "        lm.fit(self.x_train, self.y_train)\n",
    "\n",
    "        self.y_pred = lm.predict(self.x_test)\n",
    "            \n"
   ]
  },
  {
   "cell_type": "code",
   "execution_count": 5,
   "metadata": {},
   "outputs": [],
   "source": [
    "class Dataset(Dataset):\n",
    "    def printRegressionGraph(self):\n",
    "        fig = plt.figure()\n",
    "        l = plt.plot(self.y_pred, self.y_test, 'bo')\n",
    "        plt.setp(l, markersize=10)\n",
    "        plt.setp(l, markerfacecolor='C0')\n",
    "        plt.ylabel(\"y\", fontsize=15)\n",
    "        plt.xlabel(\"Prediction\", fontsize=15)\n",
    "        # mostra os valores preditos e originais\n",
    "        xl = np.arange(min(self.y_test), 1.2*max(self.y_test),(max(self.y_test)-min(self.y_test))/10)\n",
    "        yl = xl\n",
    "        plt.plot(xl, yl, 'r--')\n",
    "        plt.show(True)"
   ]
  },
  {
   "cell_type": "code",
   "execution_count": 6,
   "metadata": {},
   "outputs": [],
   "source": [
    "class Dataset(Dataset):\n",
    "    def R2coefficient(self):\n",
    "        R2 = r2_score(self.y_test , self.y_pred)\n",
    "        print('\\x1b[1;1m'+'Coeficiente de determinação R2:'+'\\x1b[0m', R2)"
   ]
  },
  {
   "cell_type": "code",
   "execution_count": 7,
   "metadata": {},
   "outputs": [],
   "source": [
    "class Dataset(Dataset):\n",
    "    def VariableCorrelations(self):\n",
    "        corr = self.data.corr()\n",
    "        #Plot Correlation Matrix using Matplotlib\n",
    "        plt.figure(figsize=(10, 8))\n",
    "        sns.heatmap(corr, annot=True, fmt='.2f', cmap='Purples')"
   ]
  }
 ],
 "metadata": {
  "kernelspec": {
   "display_name": "Python 3",
   "language": "python",
   "name": "python3"
  },
  "language_info": {
   "codemirror_mode": {
    "name": "ipython",
    "version": 3
   },
   "file_extension": ".py",
   "mimetype": "text/x-python",
   "name": "python",
   "nbconvert_exporter": "python",
   "pygments_lexer": "ipython3",
   "version": "3.7.6"
  }
 },
 "nbformat": 4,
 "nbformat_minor": 4
}
