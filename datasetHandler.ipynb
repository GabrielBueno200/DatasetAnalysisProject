{
 "cells": [
  {
   "cell_type": "code",
   "execution_count": 1,
   "metadata": {},
   "outputs": [],
   "source": [
    "# Import packages\n",
    "import pandas as pd\n",
    "import matplotlib.pyplot as plt\n",
    "import numpy as np\n",
    "\n",
    "from sklearn.model_selection import train_test_split\n",
    "from sklearn.linear_model import LinearRegression\n"
   ]
  },
  {
   "cell_type": "code",
   "execution_count": 2,
   "metadata": {},
   "outputs": [],
   "source": [
    "class Dataset():\n",
    "    def __init__(self, path):\n",
    "        self.data = pd.read_csv(path)\n",
    "        stringColumns = ['Country', 'Region', 'Country or region', 'Happiness Rank', 'Overall rank', 'Happiness.Rank']\n",
    "        for column in stringColumns:\n",
    "            if column in self.data.columns:\n",
    "                self.data = self.data.drop(columns=column, axis=1)"
   ]
  },
  {
   "cell_type": "code",
   "execution_count": 3,
   "metadata": {},
   "outputs": [],
   "source": [
    "class Dataset(Dataset):\n",
    "    def printSample(self):\n",
    "        print(\"Número de linhas e colunas:\", self.data.shape)\n",
    "        display(self.data.head(10))"
   ]
  },
  {
   "cell_type": "markdown",
   "metadata": {},
   "source": [
    "## Linear Regression"
   ]
  },
  {
   "cell_type": "code",
   "execution_count": 4,
   "metadata": {},
   "outputs": [],
   "source": [
    "class Dataset(Dataset):\n",
    "    def linearRegression(self):\n",
    "        self.data = self.data.to_numpy()\n",
    "        nrow,ncol = self.data.shape\n",
    "        y = self.data[:,-1]\n",
    "        X = self.data[:,0:ncol-1]\n",
    "\n",
    "        # divide o conjunto em treinamento e teste\n",
    "        p = 0.3 # fracao e elementos no conjnto de teste (30%)\n",
    "        self.x_train, self.x_test, self.y_train, self.y_test = train_test_split(X, y, test_size = p, random_state = 42)\n",
    "        \n",
    "        # modelo de regressão linear múltipla\n",
    "        lm = LinearRegression()\n",
    "        lm.fit(self.x_train, self.y_train)\n",
    "\n",
    "        self.y_pred = lm.predict(self.x_test)\n",
    "            \n"
   ]
  },
  {
   "cell_type": "code",
   "execution_count": 5,
   "metadata": {},
   "outputs": [],
   "source": [
    "class Dataset(Dataset):\n",
    "    def printRegressionGraph(self):\n",
    "        fig = plt.figure()\n",
    "        l = plt.plot(self.y_pred, self.y_test, 'bo')\n",
    "        plt.setp(l, markersize=10)\n",
    "        plt.setp(l, markerfacecolor='C0')\n",
    "        plt.ylabel(\"y\", fontsize=15)\n",
    "        plt.xlabel(\"Prediction\", fontsize=15)\n",
    "        # mostra os valores preditos e originais\n",
    "        xl = np.arange(min(self.y_test), 1.2*max(self.y_test),(max(self.y_test)-min(self.y_test))/10)\n",
    "        yl = xl\n",
    "        plt.plot(xl, yl, 'r--')\n",
    "        plt.show(True)"
   ]
  }
 ],
 "metadata": {
  "kernelspec": {
   "display_name": "Python 3",
   "language": "python",
   "name": "python3"
  },
  "language_info": {
   "codemirror_mode": {
    "name": "ipython",
    "version": 3
   },
   "file_extension": ".py",
   "mimetype": "text/x-python",
   "name": "python",
   "nbconvert_exporter": "python",
   "pygments_lexer": "ipython3",
   "version": "3.7.6"
  }
 },
 "nbformat": 4,
 "nbformat_minor": 4
}
